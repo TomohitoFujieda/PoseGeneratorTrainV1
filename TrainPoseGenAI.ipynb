{
  "nbformat": 4,
  "nbformat_minor": 0,
  "metadata": {
    "colab": {
      "provenance": [],
      "authorship_tag": "ABX9TyO6QUtM44bYU5+0pDVLqCwo",
      "include_colab_link": true
    },
    "kernelspec": {
      "name": "python3",
      "display_name": "Python 3"
    },
    "language_info": {
      "name": "python"
    }
  },
  "cells": [
    {
      "cell_type": "markdown",
      "metadata": {
        "id": "view-in-github",
        "colab_type": "text"
      },
      "source": [
        "<a href=\"https://colab.research.google.com/github/TomohitoFujieda/PoseGeneratorTrainV1/blob/main/TrainPoseGenAI.ipynb\" target=\"_parent\"><img src=\"https://colab.research.google.com/assets/colab-badge.svg\" alt=\"Open In Colab\"/></a>"
      ]
    },
    {
      "cell_type": "code",
      "execution_count": null,
      "metadata": {
        "colab": {
          "base_uri": "https://localhost:8080/"
        },
        "id": "s7tmcxwOaGAy",
        "outputId": "ae2d4cea-9566-457f-92d2-2463a05ec013"
      },
      "outputs": [
        {
          "output_type": "stream",
          "name": "stdout",
          "text": [
            "Mounted at /content/drive\n"
          ]
        }
      ],
      "source": [
        "from google.colab import drive\n",
        "drive.mount('/content/drive')"
      ]
    },
    {
      "cell_type": "code",
      "source": [
        "%cd drive/MyDrive/PoseAI_develop/\n",
        "!ls"
      ],
      "metadata": {
        "colab": {
          "base_uri": "https://localhost:8080/"
        },
        "id": "XzcvgONYaneu",
        "outputId": "350d756e-3261-4645-b794-a796d4d8cd38"
      },
      "execution_count": null,
      "outputs": [
        {
          "output_type": "stream",
          "name": "stdout",
          "text": [
            "/content/drive/MyDrive/PoseAI_develop\n",
            "CGAN\t\t   PoseAI_develop.ipynb\n",
            "generated_pose\t   pose_data_for_regression_analysis_2.csv\n",
            "images\t\t   pose_data_for_regression_analysis_3.csv\n",
            "images_2\t   pose_data_for_regression_analysis.csv\n",
            "Linear\t\t   pose_data_for_regression_analysis_old2.csv\n",
            "model_norm\t   pose_data_for_regression_analysis_old.csv\n",
            "model_norm_2\t   pose_dataset.csv\n",
            "model_norm_weight  PoseGenerate.ipynb\n",
            "models\n"
          ]
        }
      ]
    },
    {
      "cell_type": "code",
      "source": [
        "import pandas as pd\n",
        "df = pd.read_csv(\"pose_dataset.csv\", index_col=0)\n",
        "print(df.columns)"
      ],
      "metadata": {
        "colab": {
          "base_uri": "https://localhost:8080/"
        },
        "id": "tkSdWySw5eVB",
        "outputId": "1de25802-555e-4eb6-fea1-0f1ec59ed42b"
      },
      "execution_count": null,
      "outputs": [
        {
          "output_type": "stream",
          "name": "stdout",
          "text": [
            "Index(['nose_x', 'nose_y', 'neck_x', 'neck_y', 'right_shoulder_x',\n",
            "       'right_shoulder_y', 'right_elbow_x', 'right_elbow_y', 'right_hand_x',\n",
            "       'right_hand_y', 'left_shoulder_x', 'left_shoulder_y', 'left_elbow_x',\n",
            "       'left_elbow_y', 'left_hand_x', 'left_hand_y', 'right_thigh_x',\n",
            "       'right_thigh_y', 'right_knee_x', 'right_knee_y', 'right_ankle_x',\n",
            "       'right_ankle_y', 'left_thigh_x', 'left_thigh_y', 'left_knee_x',\n",
            "       'left_knee_y', 'left_ankle_x', 'left_ankle_y', 'right_eye_x',\n",
            "       'right_eye_y', 'left_eye_x', 'left_eye_y', 'right_ear_x', 'right_ear_y',\n",
            "       'left_ear_x', 'left_ear_y', 'joy', 'sadness', 'excited', 'surprise',\n",
            "       'anger', 'fear', 'disgust', 'trust'],\n",
            "      dtype='object')\n"
          ]
        }
      ]
    },
    {
      "cell_type": "code",
      "source": [
        "keypoint_names = [\n",
        "    \"nose\",\n",
        "    \"right_shoulder\",\n",
        "    \"left_shoulder\",\n",
        "    \"right_thigh\",\n",
        "    \"left_thigh\",\n",
        "    \"right_elbow\",\n",
        "    \"left_elbow\",\n",
        "    \"right_hand\",\n",
        "    \"left_hand\",\n",
        "    \"right_knee\",\n",
        "    \"left_knee\",\n",
        "    \"right_ankle\",\n",
        "    \"left_ankle\",\n",
        "    \"right_eye\",\n",
        "    \"left_eye\",\n",
        "    \"right_ear\",\n",
        "    \"left_ear\"\n",
        "]"
      ],
      "metadata": {
        "id": "JYEplH5NpPrd"
      },
      "execution_count": null,
      "outputs": []
    },
    {
      "cell_type": "code",
      "source": [
        "CNT = 4"
      ],
      "metadata": {
        "id": "V749Zdw9BTyF"
      },
      "execution_count": null,
      "outputs": []
    },
    {
      "cell_type": "markdown",
      "source": [
        "# データセット加工(元座標+感情データ ⇒ 目標座標)"
      ],
      "metadata": {
        "id": "A7K-9PIKcl7A"
      }
    },
    {
      "cell_type": "code",
      "source": [
        "from torch.utils.data import Subset, Dataset, DataLoader\n",
        "import torch\n",
        "import pandas as pd\n",
        "import torchvision\n",
        "import torchvision.transforms as transforms"
      ],
      "metadata": {
        "id": "yRNwJurTcpW1"
      },
      "execution_count": null,
      "outputs": []
    },
    {
      "cell_type": "code",
      "source": [
        "# TRAIN_DATA_NAME = \"pose_data_for_regression_analysis.csv\"\n",
        "TRAIN_DATA_NAME = \"./coord_emo_combined/pose_data_\" + str(CNT) + \".csv\"\n",
        "POSE_DATA_NAMES = [\"frm_x\", \"frm_y\"]\n",
        "EMOTION_DATA_NAMES = ['joy', 'sadness', 'excited', 'surprise', 'anger', 'fear', 'disgust', 'trust']\n",
        "POSE_TARGET_NAMES = [\"target_x\", \"target_y\"]\n",
        "LIMB_TYPE = [\"limb_type\"]\n",
        "BATCH_SIZE = 10\n",
        "CUDA_LAUNCH_BLOCKING = 1"
      ],
      "metadata": {
        "id": "QkynWRLycujr"
      },
      "execution_count": null,
      "outputs": []
    },
    {
      "cell_type": "code",
      "source": [
        "device = 'cuda:0' if torch.cuda.is_available() else 'cpu'\n",
        "device = torch.device(device)"
      ],
      "metadata": {
        "id": "nMY7o6fsjCIe"
      },
      "execution_count": null,
      "outputs": []
    },
    {
      "cell_type": "code",
      "source": [
        "# 各特徴点毎に分類したデータセット\n",
        "class keypoints_dataset(Dataset):\n",
        "  def __init__(self, limb_type):\n",
        "    ori_df = pd.read_csv(TRAIN_DATA_NAME)\n",
        "    df = ori_df[ori_df[\"limb_type\"] == limb_type]       # 特徴点のタイプを記録\n",
        "    self.frm_keypoint = df[POSE_DATA_NAMES].values      # 推定元となるデータ\n",
        "    self.emotion = df[EMOTION_DATA_NAMES].values        # 感情データ\n",
        "    self.target_keypoint = df[POSE_TARGET_NAMES].values # 推定先となるデータ\n",
        "\n",
        "  def __len__(self):\n",
        "      return len(self.frm_keypoint)\n",
        "\n",
        "  def __getitem__(self, index): # 推定元、感情データ、推定先の順で返す\n",
        "      A = torch.tensor(self.frm_keypoint[index], dtype=torch.float32)\n",
        "      B = torch.tensor(self.emotion[index], dtype=torch.float32)\n",
        "      C = torch.tensor(self.target_keypoint[index], dtype=torch.float32)\n",
        "\n",
        "      return A, B, C"
      ],
      "metadata": {
        "id": "Jz55LfYsl58B"
      },
      "execution_count": null,
      "outputs": []
    },
    {
      "cell_type": "code",
      "source": [
        "class StandardScalerSubset(Subset):\n",
        "    def __init__(self, dataset, indices,\n",
        "                 emo_mean=None, emo_std=None, eps=10**-9):\n",
        "        super().__init__(dataset=dataset, indices=indices)\n",
        "        target_tensor_emo = torch.stack([dataset[i][1] for i in indices])\n",
        "        target_tensor_emo = target_tensor_emo.to(torch.float32)\n",
        "        if emo_mean is None:\n",
        "            self._emo_mean = torch.mean(target_tensor_emo, dim=0)\n",
        "        else:\n",
        "            self._emo_mean = emo_mean\n",
        "        if emo_std is None:\n",
        "            self._emo_std = torch.std(target_tensor_emo, dim=0, unbiased=False)\n",
        "        else:\n",
        "            self._emo_std = emo_std\n",
        "        self._eps = eps\n",
        "        self.emo_std.apply_(lambda x: max(x, self.eps))\n",
        "\n",
        "    def __getitem__(self, idx):\n",
        "        dataset_list = list(self.dataset[self.indices[idx]])\n",
        "        input2 = dataset_list[1]\n",
        "        dataset_list[1] = ((input2 - self.emo_mean) / self.emo_std).to(torch.float32)\n",
        "        return tuple(dataset_list)\n",
        "\n",
        "    @property\n",
        "    def emo_mean(self):\n",
        "        return self._emo_mean\n",
        "\n",
        "    @property\n",
        "    def emo_std(self):\n",
        "        return self._emo_std\n",
        "\n",
        "    @property\n",
        "    def eps(self):\n",
        "        return self._eps"
      ],
      "metadata": {
        "id": "QYAoq3Uae6iU"
      },
      "execution_count": null,
      "outputs": []
    },
    {
      "cell_type": "code",
      "source": [
        "datasets = []\n",
        "for i in range(len(keypoint_names)):\n",
        "  dataset = keypoints_dataset(i)\n",
        "  dataset_sss = StandardScalerSubset(dataset, list(range(len(dataset))))\n",
        "  datasets.append(dataset_sss)"
      ],
      "metadata": {
        "id": "cQqnW6jFnI7_"
      },
      "execution_count": null,
      "outputs": []
    },
    {
      "cell_type": "markdown",
      "source": [
        "# 学習(元座標+感情データ ⇒ 目標座標)"
      ],
      "metadata": {
        "id": "sMJUZwez5Rva"
      }
    },
    {
      "cell_type": "code",
      "source": [
        "import torch\n",
        "import torch.nn as nn\n",
        "import numpy as np\n",
        "import pandas as pd"
      ],
      "metadata": {
        "id": "uOqJlUu8D1NK"
      },
      "execution_count": null,
      "outputs": []
    },
    {
      "cell_type": "code",
      "source": [
        "class keypoint_estimator(nn.Module):\n",
        "  def __init__(self):\n",
        "    super().__init__()\n",
        "    self.l = nn.Linear(10, 2)\n",
        "  def forward(self, frm, emo):\n",
        "    x = torch.cat([frm, emo], dim=1)\n",
        "    x = self.l(x)\n",
        "    return x"
      ],
      "metadata": {
        "id": "4jvXhrf9Dy_g"
      },
      "execution_count": null,
      "outputs": []
    },
    {
      "cell_type": "code",
      "source": [
        "# 学習を行う関数\n",
        "def train_model(dataset, batch_size, model):\n",
        "  criterion = nn.MSELoss()                                  # 平均二乗誤差\n",
        "  optimizer = torch.optim.SGD(model.parameters(), lr=0.01)  # 確率的勾配降下法\n",
        "\n",
        "  data_loader = DataLoader(dataset, batch_size, shuffle=True)\n",
        "  loss_history = []\n",
        "\n",
        "  for epoch in range(100):            # エポック数：100\n",
        "    total_loss = 0\n",
        "    for frm, emo, trg in data_loader:\n",
        "      trg_pred = model(frm, emo)      # 推定\n",
        "      loss = criterion(trg_pred, trg) # 損失計算\n",
        "\n",
        "      # 最適化\n",
        "      optimizer.zero_grad()\n",
        "      loss.backward()\n",
        "      optimizer.step()\n",
        "      total_loss += loss.item()\n",
        "    loss_history.append(total_loss)\n",
        "    if (epoch + 1) % 10 == 0:\n",
        "      print('Epoch [{}], Loss: {:.4f}'.format(epoch + 1, total_loss))\n",
        "\n",
        "  return loss_history"
      ],
      "metadata": {
        "id": "yQNaPx1m57vm"
      },
      "execution_count": null,
      "outputs": []
    },
    {
      "cell_type": "code",
      "source": [
        "from google.colab.patches import cv2_imshow\n",
        "import cv2\n",
        "\n",
        "def draw_keypoints(canvas, coordinates, name):\n",
        "  for c in coordinates:\n",
        "    c_np = c.cpu().detach().numpy().copy()\n",
        "    c_x = c_np[0][0]\n",
        "    c_y = c_np[0][1]\n",
        "    cv2.circle(canvas, (int(c_x), int(c_y)), 4, [255, 255, 255], thickness=-1)\n",
        "  cv2.imwrite(\"./images/\" + name + \".jpg\", canvas)"
      ],
      "metadata": {
        "id": "q-9chXNl7Yp5"
      },
      "execution_count": null,
      "outputs": []
    },
    {
      "cell_type": "code",
      "source": [
        "import matplotlib.pyplot as plt\n",
        "\n",
        "\n",
        "for k in range(len(keypoint_names)):\n",
        "  print(\"node:\", keypoint_names[k])\n",
        "  model = keypoint_estimator()\n",
        "  loss_history = train_model(datasets[k], 10, model)\n",
        "  plt.plot(loss_history)\n",
        "\n",
        "  ori = torch.tensor([[0, 0]], dtype=torch.float32)\n",
        "  emo_norm = (emo - datasets[k].emo_mean) / datasets[k].emo_std\n",
        "  cntr = torch.tensor([[256, 128]])\n",
        "  coordinates = [ori + cntr, model(ori, emo_norm) * 70 + cntr]\n",
        "  canvas = np.zeros((512, 512), dtype=np.uint8)\n",
        "  draw_keypoints(canvas, coordinates, keypoint_names[k])\n",
        "\n",
        "  model_path = \"./model_norm_4/model_\" + str(CNT) + \"/\" + keypoint_names[k] + \"_est_mdl.pth\"\n",
        "  # model_path = \"./model_norm_4/\" + keypoint_names[k] + \"_est_mdl.pth\"\n",
        "  torch.save(model, model_path)"
      ],
      "metadata": {
        "colab": {
          "base_uri": "https://localhost:8080/"
        },
        "id": "94tyYjPi7NGz",
        "outputId": "0461c6d5-8acc-4748-d874-24cecf557a3d"
      },
      "execution_count": null,
      "outputs": [
        {
          "output_type": "stream",
          "name": "stdout",
          "text": [
            "node: nose\n",
            "Epoch [10], Loss: 0.3773\n",
            "Epoch [20], Loss: 0.1935\n",
            "Epoch [30], Loss: 0.1261\n",
            "Epoch [40], Loss: 0.0912\n",
            "Epoch [50], Loss: 0.0680\n",
            "Epoch [60], Loss: 0.0541\n",
            "Epoch [70], Loss: 0.0446\n",
            "Epoch [80], Loss: 0.0380\n",
            "Epoch [90], Loss: 0.0328\n",
            "Epoch [100], Loss: 0.0295\n",
            "node: right_shoulder\n",
            "Epoch [10], Loss: 0.4521\n",
            "Epoch [20], Loss: 0.2137\n",
            "Epoch [30], Loss: 0.1200\n",
            "Epoch [40], Loss: 0.0762\n",
            "Epoch [50], Loss: 0.0515\n",
            "Epoch [60], Loss: 0.0396\n",
            "Epoch [70], Loss: 0.0324\n",
            "Epoch [80], Loss: 0.0284\n",
            "Epoch [90], Loss: 0.0240\n",
            "Epoch [100], Loss: 0.0218\n",
            "node: left_shoulder\n",
            "Epoch [10], Loss: 0.4944\n",
            "Epoch [20], Loss: 0.2755\n",
            "Epoch [30], Loss: 0.1700\n",
            "Epoch [40], Loss: 0.1130\n",
            "Epoch [50], Loss: 0.0787\n",
            "Epoch [60], Loss: 0.0598\n",
            "Epoch [70], Loss: 0.0464\n",
            "Epoch [80], Loss: 0.0374\n",
            "Epoch [90], Loss: 0.0308\n",
            "Epoch [100], Loss: 0.0263\n",
            "node: right_thigh\n",
            "Epoch [10], Loss: 1.1230\n",
            "Epoch [20], Loss: 0.5222\n",
            "Epoch [30], Loss: 0.2552\n",
            "Epoch [40], Loss: 0.1321\n",
            "Epoch [50], Loss: 0.0747\n",
            "Epoch [60], Loss: 0.0470\n",
            "Epoch [70], Loss: 0.0324\n",
            "Epoch [80], Loss: 0.0247\n",
            "Epoch [90], Loss: 0.0204\n",
            "Epoch [100], Loss: 0.0170\n",
            "node: left_thigh\n",
            "Epoch [10], Loss: 0.5461\n",
            "Epoch [20], Loss: 0.2664\n",
            "Epoch [30], Loss: 0.1440\n",
            "Epoch [40], Loss: 0.0824\n",
            "Epoch [50], Loss: 0.0515\n",
            "Epoch [60], Loss: 0.0353\n",
            "Epoch [70], Loss: 0.0249\n",
            "Epoch [80], Loss: 0.0192\n",
            "Epoch [90], Loss: 0.0156\n",
            "Epoch [100], Loss: 0.0133\n",
            "node: right_elbow\n",
            "Epoch [10], Loss: 0.4451\n",
            "Epoch [20], Loss: 0.2215\n",
            "Epoch [30], Loss: 0.1258\n",
            "Epoch [40], Loss: 0.0839\n",
            "Epoch [50], Loss: 0.0624\n",
            "Epoch [60], Loss: 0.0518\n",
            "Epoch [70], Loss: 0.0458\n",
            "Epoch [80], Loss: 0.0423\n",
            "Epoch [90], Loss: 0.0405\n",
            "Epoch [100], Loss: 0.0395\n",
            "node: left_elbow\n",
            "Epoch [10], Loss: 0.6265\n",
            "Epoch [20], Loss: 0.3131\n",
            "Epoch [30], Loss: 0.1826\n",
            "Epoch [40], Loss: 0.1258\n",
            "Epoch [50], Loss: 0.0968\n",
            "Epoch [60], Loss: 0.0803\n",
            "Epoch [70], Loss: 0.0705\n",
            "Epoch [80], Loss: 0.0637\n",
            "Epoch [90], Loss: 0.0583\n",
            "Epoch [100], Loss: 0.0546\n",
            "node: right_hand\n",
            "Epoch [10], Loss: 0.4871\n",
            "Epoch [20], Loss: 0.2187\n",
            "Epoch [30], Loss: 0.1448\n",
            "Epoch [40], Loss: 0.1154\n",
            "Epoch [50], Loss: 0.0992\n",
            "Epoch [60], Loss: 0.0853\n",
            "Epoch [70], Loss: 0.0776\n",
            "Epoch [80], Loss: 0.0733\n",
            "Epoch [90], Loss: 0.0701\n",
            "Epoch [100], Loss: 0.0670\n",
            "node: left_hand\n",
            "Epoch [10], Loss: 0.5860\n",
            "Epoch [20], Loss: 0.2884\n",
            "Epoch [30], Loss: 0.1715\n",
            "Epoch [40], Loss: 0.1138\n",
            "Epoch [50], Loss: 0.0888\n",
            "Epoch [60], Loss: 0.0745\n",
            "Epoch [70], Loss: 0.0655\n",
            "Epoch [80], Loss: 0.0615\n",
            "Epoch [90], Loss: 0.0597\n",
            "Epoch [100], Loss: 0.0568\n",
            "node: right_knee\n",
            "Epoch [10], Loss: 0.8217\n",
            "Epoch [20], Loss: 0.3567\n",
            "Epoch [30], Loss: 0.1819\n",
            "Epoch [40], Loss: 0.1081\n",
            "Epoch [50], Loss: 0.0738\n",
            "Epoch [60], Loss: 0.0544\n",
            "Epoch [70], Loss: 0.0434\n",
            "Epoch [80], Loss: 0.0362\n",
            "Epoch [90], Loss: 0.0311\n",
            "Epoch [100], Loss: 0.0281\n",
            "node: left_knee\n",
            "Epoch [10], Loss: 1.0417\n",
            "Epoch [20], Loss: 0.4498\n",
            "Epoch [30], Loss: 0.2224\n",
            "Epoch [40], Loss: 0.1214\n",
            "Epoch [50], Loss: 0.0736\n",
            "Epoch [60], Loss: 0.0487\n",
            "Epoch [70], Loss: 0.0337\n",
            "Epoch [80], Loss: 0.0251\n",
            "Epoch [90], Loss: 0.0195\n",
            "Epoch [100], Loss: 0.0160\n",
            "node: right_ankle\n",
            "Epoch [10], Loss: 0.7164\n",
            "Epoch [20], Loss: 0.2270\n",
            "Epoch [30], Loss: 0.1065\n",
            "Epoch [40], Loss: 0.0616\n",
            "Epoch [50], Loss: 0.0420\n",
            "Epoch [60], Loss: 0.0323\n",
            "Epoch [70], Loss: 0.0263\n",
            "Epoch [80], Loss: 0.0230\n",
            "Epoch [90], Loss: 0.0214\n",
            "Epoch [100], Loss: 0.0195\n",
            "node: left_ankle\n",
            "Epoch [10], Loss: 0.4393\n",
            "Epoch [20], Loss: 0.2057\n",
            "Epoch [30], Loss: 0.1268\n",
            "Epoch [40], Loss: 0.0863\n",
            "Epoch [50], Loss: 0.0629\n",
            "Epoch [60], Loss: 0.0491\n",
            "Epoch [70], Loss: 0.0387\n",
            "Epoch [80], Loss: 0.0321\n",
            "Epoch [90], Loss: 0.0276\n",
            "Epoch [100], Loss: 0.0239\n",
            "node: right_eye\n",
            "Epoch [10], Loss: 0.5392\n",
            "Epoch [20], Loss: 0.2304\n",
            "Epoch [30], Loss: 0.1092\n",
            "Epoch [40], Loss: 0.0575\n",
            "Epoch [50], Loss: 0.0340\n",
            "Epoch [60], Loss: 0.0222\n",
            "Epoch [70], Loss: 0.0146\n",
            "Epoch [80], Loss: 0.0104\n",
            "Epoch [90], Loss: 0.0079\n",
            "Epoch [100], Loss: 0.0062\n",
            "node: left_eye\n",
            "Epoch [10], Loss: 0.4626\n",
            "Epoch [20], Loss: 0.1948\n",
            "Epoch [30], Loss: 0.1057\n",
            "Epoch [40], Loss: 0.0626\n",
            "Epoch [50], Loss: 0.0432\n",
            "Epoch [60], Loss: 0.0314\n",
            "Epoch [70], Loss: 0.0250\n",
            "Epoch [80], Loss: 0.0204\n",
            "Epoch [90], Loss: 0.0173\n",
            "Epoch [100], Loss: 0.0151\n",
            "node: right_ear\n",
            "Epoch [10], Loss: 0.3536\n",
            "Epoch [20], Loss: 0.1526\n",
            "Epoch [30], Loss: 0.0892\n",
            "Epoch [40], Loss: 0.0601\n",
            "Epoch [50], Loss: 0.0447\n",
            "Epoch [60], Loss: 0.0351\n",
            "Epoch [70], Loss: 0.0295\n",
            "Epoch [80], Loss: 0.0251\n",
            "Epoch [90], Loss: 0.0221\n",
            "Epoch [100], Loss: 0.0196\n",
            "node: left_ear\n",
            "Epoch [10], Loss: 0.4710\n",
            "Epoch [20], Loss: 0.1886\n",
            "Epoch [30], Loss: 0.0979\n",
            "Epoch [40], Loss: 0.0575\n",
            "Epoch [50], Loss: 0.0382\n",
            "Epoch [60], Loss: 0.0270\n",
            "Epoch [70], Loss: 0.0208\n",
            "Epoch [80], Loss: 0.0170\n",
            "Epoch [90], Loss: 0.0138\n",
            "Epoch [100], Loss: 0.0121\n"
          ]
        },
        {
          "output_type": "display_data",
          "data": {
            "text/plain": [
              "<Figure size 640x480 with 1 Axes>"
            ],
            "image/png": "[encoded data removed]"
          },
          "metadata": {}
        }
      ]
    },
    {
      "cell_type": "markdown",
      "source": [
        "# 感情データのみからの生成（保留）"
      ],
      "metadata": {
        "id": "I-P1_XvqQxdG"
      }
    },
    {
      "cell_type": "markdown",
      "source": [
        "## データセット加工(感情データ ⇒ 目標座標) 保留"
      ],
      "metadata": {
        "id": "IZbsz5KQtJyP"
      }
    },
    {
      "cell_type": "code",
      "source": [
        "from torch.utils.data import Subset, Dataset, DataLoader\n",
        "import torch\n",
        "import pandas as pd\n",
        "import torchvision\n",
        "import torchvision.transforms as transforms"
      ],
      "metadata": {
        "id": "etH3TcOLtJyV"
      },
      "execution_count": null,
      "outputs": []
    },
    {
      "cell_type": "code",
      "source": [
        "TRAIN_DATA_NAME = \"pose_data_for_regression_analysis_2.csv\"\n",
        "EMOTION_DATA_NAMES = ['joy', 'sadness', 'excited', 'surprise', 'anger', 'fear', 'disgust', 'trust']\n",
        "POSE_TARGET_NAMES = [\"target_x\", \"target_y\"]\n",
        "LIMB_TYPE = [\"limb_type\"]\n",
        "BATCH_SIZE = 10\n",
        "CUDA_LAUNCH_BLOCKING = 1"
      ],
      "metadata": {
        "id": "nXULVAyatJyV"
      },
      "execution_count": null,
      "outputs": []
    },
    {
      "cell_type": "code",
      "source": [
        "device = 'cuda:0' if torch.cuda.is_available() else 'cpu'\n",
        "device = torch.device(device)"
      ],
      "metadata": {
        "id": "wwIrF5UPtJyV"
      },
      "execution_count": null,
      "outputs": []
    },
    {
      "cell_type": "code",
      "source": [
        "class keypoints_dataset(Dataset):\n",
        "  def __init__(self, limb_type):\n",
        "    ori_df = pd.read_csv(TRAIN_DATA_NAME)\n",
        "    df = ori_df[ori_df[\"limb_type\"] == limb_type]\n",
        "    self.emotion = df[EMOTION_DATA_NAMES].values\n",
        "    self.target_keypoint = df[POSE_TARGET_NAMES].values\n",
        "\n",
        "  def __len__(self):\n",
        "      return len(self.emotion)\n",
        "\n",
        "  def __getitem__(self, index):\n",
        "      A = torch.tensor(self.emotion[index], dtype=torch.float32)\n",
        "      B = torch.tensor(self.target_keypoint[index], dtype=torch.float32)\n",
        "\n",
        "      return A, B"
      ],
      "metadata": {
        "id": "cEs0kDHktJyV"
      },
      "execution_count": null,
      "outputs": []
    },
    {
      "cell_type": "code",
      "source": [
        "class StandardScalerSubset(Subset):\n",
        "    def __init__(self, dataset, indices,\n",
        "                 emo_mean=None, emo_std=None, eps=10**-9):\n",
        "        super().__init__(dataset=dataset, indices=indices)\n",
        "        target_tensor_emo = torch.stack([dataset[i][1] for i in indices])\n",
        "        target_tensor_emo = target_tensor_emo.to(torch.float32)\n",
        "        if emo_mean is None:\n",
        "            self._emo_mean = torch.mean(target_tensor_emo, dim=0)\n",
        "        else:\n",
        "            self._emo_mean = emo_mean\n",
        "        if emo_std is None:\n",
        "            self._emo_std = torch.std(target_tensor_emo, dim=0, unbiased=False)\n",
        "        else:\n",
        "            self._emo_std = emo_std\n",
        "        self._eps = eps\n",
        "        self.emo_std.apply_(lambda x: max(x, self.eps))\n",
        "\n",
        "    def __getitem__(self, idx):\n",
        "        dataset_list = list(self.dataset[self.indices[idx]])\n",
        "        input2 = dataset_list[1]\n",
        "        dataset_list[1] = ((input2 - self.emo_mean) / self.emo_std).to(torch.float32)\n",
        "        return tuple(dataset_list)\n",
        "\n",
        "    @property\n",
        "    def emo_mean(self):\n",
        "        return self._emo_mean\n",
        "\n",
        "    @property\n",
        "    def emo_std(self):\n",
        "        return self._emo_std\n",
        "\n",
        "    @property\n",
        "    def eps(self):\n",
        "        return self._eps"
      ],
      "metadata": {
        "id": "7xAKJELWtJyV"
      },
      "execution_count": null,
      "outputs": []
    },
    {
      "cell_type": "code",
      "source": [
        "datasets = []\n",
        "for i in range(len(keypoint_names)):\n",
        "  dataset = keypoints_dataset(i)\n",
        "  datasets.append(dataset)"
      ],
      "metadata": {
        "id": "4XUxx3rJtJyW"
      },
      "execution_count": null,
      "outputs": []
    },
    {
      "cell_type": "markdown",
      "source": [
        "## 学習(感情データ ⇒ 目標座標) 保留"
      ],
      "metadata": {
        "id": "9W6lNd6JtJyW"
      }
    },
    {
      "cell_type": "code",
      "source": [
        "import torch\n",
        "import torch.nn as nn\n",
        "import numpy as np\n",
        "import pandas as pd"
      ],
      "metadata": {
        "id": "lDCUk2DftJyW"
      },
      "execution_count": null,
      "outputs": []
    },
    {
      "cell_type": "code",
      "source": [
        "class keypoint_estimator(nn.Module):\n",
        "  def __init__(self):\n",
        "    super().__init__()\n",
        "    self.l = nn.Linear(8, 2)\n",
        "  def forward(self, emo):\n",
        "    # x = torch.cat([frm, emo], dim=1)\n",
        "    x = self.l(emo)\n",
        "    return x"
      ],
      "metadata": {
        "id": "dr_l4YjztJyW"
      },
      "execution_count": null,
      "outputs": []
    },
    {
      "cell_type": "code",
      "source": [
        "def train_model(dataset, batch_size, model):\n",
        "  criterion = nn.MSELoss()\n",
        "  optimizer = torch.optim.SGD(model.parameters(), lr=0.01)\n",
        "\n",
        "  data_loader = DataLoader(dataset, batch_size, shuffle=True)\n",
        "  loss_history = []\n",
        "\n",
        "  for epoch in range(100):\n",
        "    total_loss = 0\n",
        "    for emo, trg in data_loader:\n",
        "      trg_pred = model(emo)\n",
        "      loss = criterion(trg_pred, trg)\n",
        "\n",
        "      optimizer.zero_grad()\n",
        "      loss.backward()\n",
        "      optimizer.step()\n",
        "      total_loss += loss.item()\n",
        "    loss_history.append(total_loss)\n",
        "    if (epoch + 1) % 10 == 0:\n",
        "      print('Epoch [{}], Loss: {:.4f}'.format(epoch + 1, total_loss))\n",
        "\n",
        "  return loss_history"
      ],
      "metadata": {
        "id": "OOLN7O8KtJyW"
      },
      "execution_count": null,
      "outputs": []
    },
    {
      "cell_type": "code",
      "source": [
        "from google.colab.patches import cv2_imshow\n",
        "import cv2\n",
        "\n",
        "def draw_keypoints(canvas, coordinates, name):\n",
        "  for c in coordinates:\n",
        "    c_np = c.cpu().detach().numpy().copy()\n",
        "    c_x = c_np[0][0]\n",
        "    c_y = c_np[0][1]\n",
        "    cv2.circle(canvas, (int(c_x), int(c_y)), 4, [255, 255, 255], thickness=-1)\n",
        "  cv2.imwrite(\"./images_2_/\" + name + \".jpg\", canvas)"
      ],
      "metadata": {
        "id": "PMBOUajVtJyX"
      },
      "execution_count": null,
      "outputs": []
    },
    {
      "cell_type": "code",
      "source": [
        "import matplotlib.pyplot as plt\n",
        "\n",
        "emo = (torch.tensor([[2, 1, 3, 2, 1, 1, 1, 4]], dtype=torch.float32) - 1) / 3\n",
        "\n",
        "for k in range(len(keypoint_names)):\n",
        "  model = keypoint_estimator()\n",
        "  loss_history = train_model(datasets[k], 10, model)\n",
        "  plt.plot(loss_history)\n",
        "\n",
        "  cntr = torch.tensor([[256, 256]])\n",
        "  coordinates = [ori + cntr, model(emo) * 70 + cntr]\n",
        "  canvas = np.zeros((512, 512), dtype=np.uint8)\n",
        "  draw_keypoints(canvas, coordinates, keypoint_names[k])\n",
        "\n",
        "  model_path = \"./model_norm_2/\" + keypoint_names[k] + \"_est_mdl.pth\"\n",
        "  torch.save(model, model_path)"
      ],
      "metadata": {
        "colab": {
          "base_uri": "https://localhost:8080/",
          "height": 1000
        },
        "outputId": "707fd32d-e4c7-4b0b-adff-68bfaa889822",
        "id": "MdHGbv-htJyX"
      },
      "execution_count": null,
      "outputs": [
        {
          "output_type": "stream",
          "name": "stdout",
          "text": [
            "Epoch [10], Loss: 0.3899\n",
            "Epoch [20], Loss: 0.2589\n",
            "Epoch [30], Loss: 0.2036\n",
            "Epoch [40], Loss: 0.1755\n",
            "Epoch [50], Loss: 0.1563\n",
            "Epoch [60], Loss: 0.1400\n",
            "Epoch [70], Loss: 0.1278\n",
            "Epoch [80], Loss: 0.1182\n",
            "Epoch [90], Loss: 0.1080\n",
            "Epoch [100], Loss: 0.1005\n",
            "Epoch [10], Loss: 0.5074\n",
            "Epoch [20], Loss: 0.1802\n",
            "Epoch [30], Loss: 0.0872\n",
            "Epoch [40], Loss: 0.0562\n",
            "Epoch [50], Loss: 0.0443\n",
            "Epoch [60], Loss: 0.0386\n",
            "Epoch [70], Loss: 0.0343\n",
            "Epoch [80], Loss: 0.0309\n",
            "Epoch [90], Loss: 0.0280\n",
            "Epoch [100], Loss: 0.0260\n",
            "Epoch [10], Loss: 0.3523\n",
            "Epoch [20], Loss: 0.1727\n",
            "Epoch [30], Loss: 0.1153\n",
            "Epoch [40], Loss: 0.0911\n",
            "Epoch [50], Loss: 0.0798\n",
            "Epoch [60], Loss: 0.0716\n",
            "Epoch [70], Loss: 0.0644\n",
            "Epoch [80], Loss: 0.0593\n",
            "Epoch [90], Loss: 0.0539\n",
            "Epoch [100], Loss: 0.0505\n",
            "Epoch [10], Loss: 0.6504\n",
            "Epoch [20], Loss: 0.2694\n",
            "Epoch [30], Loss: 0.1559\n",
            "Epoch [40], Loss: 0.1218\n",
            "Epoch [50], Loss: 0.1098\n",
            "Epoch [60], Loss: 0.1029\n",
            "Epoch [70], Loss: 0.0949\n",
            "Epoch [80], Loss: 0.0906\n",
            "Epoch [90], Loss: 0.0861\n",
            "Epoch [100], Loss: 0.0848\n",
            "Epoch [10], Loss: 0.2519\n",
            "Epoch [20], Loss: 0.1026\n",
            "Epoch [30], Loss: 0.0590\n",
            "Epoch [40], Loss: 0.0452\n",
            "Epoch [50], Loss: 0.0394\n",
            "Epoch [60], Loss: 0.0360\n",
            "Epoch [70], Loss: 0.0336\n",
            "Epoch [80], Loss: 0.0316\n",
            "Epoch [90], Loss: 0.0300\n",
            "Epoch [100], Loss: 0.0285\n",
            "Epoch [10], Loss: 0.3260\n",
            "Epoch [20], Loss: 0.1735\n",
            "Epoch [30], Loss: 0.1286\n",
            "Epoch [40], Loss: 0.1106\n",
            "Epoch [50], Loss: 0.1014\n",
            "Epoch [60], Loss: 0.0956\n",
            "Epoch [70], Loss: 0.0928\n",
            "Epoch [80], Loss: 0.0869\n",
            "Epoch [90], Loss: 0.0843\n",
            "Epoch [100], Loss: 0.0810\n",
            "Epoch [10], Loss: 0.4092\n",
            "Epoch [20], Loss: 0.2324\n",
            "Epoch [30], Loss: 0.1734\n",
            "Epoch [40], Loss: 0.1475\n",
            "Epoch [50], Loss: 0.1301\n",
            "Epoch [60], Loss: 0.1195\n",
            "Epoch [70], Loss: 0.1091\n",
            "Epoch [80], Loss: 0.1040\n",
            "Epoch [90], Loss: 0.0978\n",
            "Epoch [100], Loss: 0.0918\n",
            "Epoch [10], Loss: 0.4745\n",
            "Epoch [20], Loss: 0.2899\n",
            "Epoch [30], Loss: 0.2262\n",
            "Epoch [40], Loss: 0.1985\n",
            "Epoch [50], Loss: 0.1847\n",
            "Epoch [60], Loss: 0.1706\n",
            "Epoch [70], Loss: 0.1601\n",
            "Epoch [80], Loss: 0.1538\n",
            "Epoch [90], Loss: 0.1473\n",
            "Epoch [100], Loss: 0.1407\n",
            "Epoch [10], Loss: 0.3038\n",
            "Epoch [20], Loss: 0.2781\n",
            "Epoch [30], Loss: 0.2533\n",
            "Epoch [40], Loss: 0.2380\n",
            "Epoch [50], Loss: 0.2223\n",
            "Epoch [60], Loss: 0.2059\n",
            "Epoch [70], Loss: 0.1900\n",
            "Epoch [80], Loss: 0.1802\n",
            "Epoch [90], Loss: 0.1697\n",
            "Epoch [100], Loss: 0.1587\n",
            "Epoch [10], Loss: 0.6658\n",
            "Epoch [20], Loss: 0.2584\n",
            "Epoch [30], Loss: 0.1346\n",
            "Epoch [40], Loss: 0.0946\n",
            "Epoch [50], Loss: 0.0743\n",
            "Epoch [60], Loss: 0.0644\n",
            "Epoch [70], Loss: 0.0564\n",
            "Epoch [80], Loss: 0.0501\n",
            "Epoch [90], Loss: 0.0471\n",
            "Epoch [100], Loss: 0.0419\n",
            "Epoch [10], Loss: 0.6762\n",
            "Epoch [20], Loss: 0.2986\n",
            "Epoch [30], Loss: 0.1817\n",
            "Epoch [40], Loss: 0.1379\n",
            "Epoch [50], Loss: 0.1180\n",
            "Epoch [60], Loss: 0.1031\n",
            "Epoch [70], Loss: 0.0934\n",
            "Epoch [80], Loss: 0.0869\n",
            "Epoch [90], Loss: 0.0804\n",
            "Epoch [100], Loss: 0.0749\n",
            "Epoch [10], Loss: 0.2602\n",
            "Epoch [20], Loss: 0.1475\n",
            "Epoch [30], Loss: 0.1097\n",
            "Epoch [40], Loss: 0.0930\n",
            "Epoch [50], Loss: 0.0868\n",
            "Epoch [60], Loss: 0.0794\n",
            "Epoch [70], Loss: 0.0750\n",
            "Epoch [80], Loss: 0.0709\n",
            "Epoch [90], Loss: 0.0679\n",
            "Epoch [100], Loss: 0.0652\n",
            "Epoch [10], Loss: 0.3506\n",
            "Epoch [20], Loss: 0.2004\n",
            "Epoch [30], Loss: 0.1470\n",
            "Epoch [40], Loss: 0.1223\n",
            "Epoch [50], Loss: 0.1075\n",
            "Epoch [60], Loss: 0.0969\n",
            "Epoch [70], Loss: 0.0873\n",
            "Epoch [80], Loss: 0.0820\n",
            "Epoch [90], Loss: 0.0753\n",
            "Epoch [100], Loss: 0.0707\n",
            "Epoch [10], Loss: 0.1051\n",
            "Epoch [20], Loss: 0.0942\n",
            "Epoch [30], Loss: 0.0851\n",
            "Epoch [40], Loss: 0.0777\n",
            "Epoch [50], Loss: 0.0717\n",
            "Epoch [60], Loss: 0.0670\n",
            "Epoch [70], Loss: 0.0613\n",
            "Epoch [80], Loss: 0.0579\n",
            "Epoch [90], Loss: 0.0546\n",
            "Epoch [100], Loss: 0.0501\n",
            "Epoch [10], Loss: 0.1297\n",
            "Epoch [20], Loss: 0.1061\n",
            "Epoch [30], Loss: 0.0922\n",
            "Epoch [40], Loss: 0.0818\n",
            "Epoch [50], Loss: 0.0731\n",
            "Epoch [60], Loss: 0.0664\n",
            "Epoch [70], Loss: 0.0609\n",
            "Epoch [80], Loss: 0.0555\n",
            "Epoch [90], Loss: 0.0503\n",
            "Epoch [100], Loss: 0.0466\n",
            "Epoch [10], Loss: 0.1377\n",
            "Epoch [20], Loss: 0.0966\n",
            "Epoch [30], Loss: 0.0774\n",
            "Epoch [40], Loss: 0.0688\n",
            "Epoch [50], Loss: 0.0634\n",
            "Epoch [60], Loss: 0.0581\n",
            "Epoch [70], Loss: 0.0540\n",
            "Epoch [80], Loss: 0.0496\n",
            "Epoch [90], Loss: 0.0461\n",
            "Epoch [100], Loss: 0.0437\n",
            "Epoch [10], Loss: 0.2032\n",
            "Epoch [20], Loss: 0.1168\n",
            "Epoch [30], Loss: 0.0886\n",
            "Epoch [40], Loss: 0.0760\n",
            "Epoch [50], Loss: 0.0686\n",
            "Epoch [60], Loss: 0.0625\n",
            "Epoch [70], Loss: 0.0581\n",
            "Epoch [80], Loss: 0.0540\n",
            "Epoch [90], Loss: 0.0495\n",
            "Epoch [100], Loss: 0.0459\n"
          ]
        },
        {
          "output_type": "display_data",
          "data": {
            "text/plain": [
              "<Figure size 640x480 with 1 Axes>"
            ],
            "image/png": "[encoded data removed]"
          },
          "metadata": {}
        }
      ]
    }
  ]
}